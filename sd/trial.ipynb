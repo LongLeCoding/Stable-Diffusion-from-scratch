{
 "cells": [
  {
   "cell_type": "code",
   "execution_count": 3,
   "id": "ab1f3536",
   "metadata": {},
   "outputs": [],
   "source": [
    "import torch\n",
    "import numpy as np"
   ]
  },
  {
   "cell_type": "code",
   "execution_count": 25,
   "id": "539d1340",
   "metadata": {},
   "outputs": [
    {
     "data": {
      "text/plain": [
       "torch.Size([1000])"
      ]
     },
     "execution_count": 25,
     "metadata": {},
     "output_type": "execute_result"
    }
   ],
   "source": [
    "num_training_steps = 1000\n",
    "num_inference_steps = 50\n",
    "step_ratio = num_training_steps // num_inference_steps\n",
    "timesteps = torch.from_numpy(np.arange(0, num_training_steps)).flip(0).clone()\n",
    "timesteps.shape"
   ]
  },
  {
   "cell_type": "code",
   "execution_count": 34,
   "id": "07385a41",
   "metadata": {},
   "outputs": [],
   "source": [
    "timesteps = (np.arange(0, num_inference_steps) * step_ratio).round()[::-1].copy().astype(np.int64)\n"
   ]
  },
  {
   "cell_type": "code",
   "execution_count": 36,
   "id": "8c4053e9",
   "metadata": {},
   "outputs": [
    {
     "data": {
      "text/plain": [
       "(50,)"
      ]
     },
     "execution_count": 36,
     "metadata": {},
     "output_type": "execute_result"
    }
   ],
   "source": [
    "timesteps.shape"
   ]
  },
  {
   "cell_type": "code",
   "execution_count": 50,
   "id": "85bcbc72",
   "metadata": {},
   "outputs": [],
   "source": [
    "beta_start: float = 0.00085\n",
    "beta_end: float = 0.0120\n",
    "betas = torch.linspace(beta_start**0.5, beta_end**0.5, num_training_steps, dtype=torch.float32) **2\n",
    "alpha = 1.0 - betas\n",
    "alpha_cumprod = torch.cumprod(alpha, 0)"
   ]
  },
  {
   "cell_type": "code",
   "execution_count": 51,
   "id": "5aca5dd1",
   "metadata": {},
   "outputs": [],
   "source": [
    "sqrt_alpha_prod = alpha_cumprod[timesteps] ** 0.5\n"
   ]
  },
  {
   "cell_type": "code",
   "execution_count": 52,
   "id": "cb006612",
   "metadata": {},
   "outputs": [],
   "source": [
    "sqrt_alpha_prod = sqrt_alpha_prod.unsqueeze(-1)"
   ]
  },
  {
   "cell_type": "code",
   "execution_count": 53,
   "id": "37c2858c",
   "metadata": {},
   "outputs": [
    {
     "data": {
      "text/plain": [
       "torch.Size([50, 1, 1])"
      ]
     },
     "execution_count": 53,
     "metadata": {},
     "output_type": "execute_result"
    }
   ],
   "source": [
    "sqrt_alpha_prod.unsqueeze(-1).shape\n"
   ]
  },
  {
   "cell_type": "code",
   "execution_count": 54,
   "id": "2a51e2e5",
   "metadata": {},
   "outputs": [
    {
     "data": {
      "text/plain": [
       "tensor([-1.5053, -0.2816,  0.8172,  0.3956, -1.9006,  1.6439,  0.4465, -0.5115,\n",
       "        -0.1115,  0.8365,  1.7516,  0.9924,  1.0056,  0.0918, -0.7744, -0.3210,\n",
       "        -0.2497, -1.1102,  0.1427, -0.0494,  0.0841,  0.3266,  0.6864,  1.2982,\n",
       "         0.1808,  1.0990,  0.1243,  0.4976, -0.4979, -1.7141,  0.1396, -1.0737,\n",
       "         0.1328,  1.4180,  1.0309,  0.2909, -1.7247, -1.3233,  0.5698,  0.7277,\n",
       "         0.0068, -0.3718,  0.5984, -0.6829,  0.7997,  0.5075, -1.6693,  1.7618,\n",
       "        -0.6558, -0.0914])"
      ]
     },
     "execution_count": 54,
     "metadata": {},
     "output_type": "execute_result"
    }
   ],
   "source": [
    "torch.randn(50)"
   ]
  },
  {
   "cell_type": "code",
   "execution_count": 55,
   "id": "9fe3cd8a",
   "metadata": {},
   "outputs": [
    {
     "name": "stdout",
     "output_type": "stream",
     "text": [
      "Current working directory: c:\\Python\\Diffusion_model\\sd\n",
      "File exists: True\n"
     ]
    }
   ],
   "source": [
    "import os\n",
    "print(\"Current working directory:\", os.getcwd())\n",
    "print(\"File exists:\", os.path.exists(\"../data/vocab.json\"))\n"
   ]
  },
  {
   "cell_type": "code",
   "execution_count": 2,
   "id": "7bb50f65",
   "metadata": {},
   "outputs": [
    {
     "name": "stdout",
     "output_type": "stream",
     "text": [
      "False\n",
      "No CUDA device\n"
     ]
    }
   ],
   "source": [
    "import torch\n",
    "print(torch.cuda.is_available())\n",
    "print(torch.cuda.get_device_name(0) if torch.cuda.is_available() else \"No CUDA device\")"
   ]
  },
  {
   "cell_type": "code",
   "execution_count": null,
   "id": "1c035614",
   "metadata": {},
   "outputs": [],
   "source": [
    "class Solution:\n",
    "    def minimumswap(self,s1: str,s2:str) -> int:\n",
    "        a = 0\n",
    "        b = 0\n",
    "        for i in range(len(s1)):\n",
    "            if s1[i] == 'x' and s2[i] == 'y':\n",
    "                a +=1\n",
    "            elif s2[i] == 'x' and s1[i] == 'y':\n",
    "                b +=1\n",
    "        if a % 2 == 0 and b % 2 == 0:\n",
    "            return a//2 + b//2\n",
    "        elif a % 2 != 0 and b % 2 != 0:\n",
    "            return a//2 + b//2 + 2\n",
    "        else:\n",
    "            return -1\n",
    "    \n",
    "    def longest_without_duplicate(self, s: str) -> str:\n",
    "        seen = {}\n",
    "        start = 0\n",
    "        max_len = 0\n",
    "        for i, char in enumerate(s):\n",
    "            if char in seen and seen[char] >= start:\n",
    "                start = seen[char] + 1\n",
    "            \n",
    "            seen[char] = i\n",
    "            max_len = max(max_len, i - start + 1)\n",
    "\n",
    "        return max(seen.values()) + 1  \n",
    "\n",
    "    def is_valid(self, s: str) -> bool:\n",
    "        pair = {')': '(', ']': '[', '}': '{'}\n",
    "        stack = []\n",
    "        for char in s:\n",
    "            if char in pair:\n",
    "                if not stack or stack.pop() != pair[char]:\n",
    "                    return False\n",
    "            else:\n",
    "                stack.append(char)\n",
    "        return not stack    \n",
    "    \n",
    "    def is_palindrome(self, s:str)->bool:\n",
    "        filtered_chars = []\n",
    "        for char in s:\n",
    "            if char.isalpha() or char.isdigit():\n",
    "                filtered_chars.append(char)            \n",
    "        new = ''.join(filtered_chars).lower()\n",
    "        reserve = new[::-1]\n",
    "        if new == reserve:\n",
    "            return True \n",
    "        else: \n",
    "            return False\n",
    "        \n",
    "\n",
    "sol = Solution()\n"
   ]
  },
  {
   "cell_type": "code",
   "execution_count": 185,
   "id": "be8c3ef7",
   "metadata": {},
   "outputs": [
    {
     "data": {
      "text/plain": [
       "False"
      ]
     },
     "execution_count": 185,
     "metadata": {},
     "output_type": "execute_result"
    }
   ],
   "source": [
    "s = \"race a car\"\n",
    "sol.is_palindrome(s)\n"
   ]
  },
  {
   "cell_type": "code",
   "execution_count": null,
   "id": "b271c383",
   "metadata": {},
   "outputs": [],
   "source": []
  },
  {
   "cell_type": "code",
   "execution_count": null,
   "id": "f18caea1",
   "metadata": {},
   "outputs": [],
   "source": []
  }
 ],
 "metadata": {
  "kernelspec": {
   "display_name": "Python 3",
   "language": "python",
   "name": "python3"
  },
  "language_info": {
   "codemirror_mode": {
    "name": "ipython",
    "version": 3
   },
   "file_extension": ".py",
   "mimetype": "text/x-python",
   "name": "python",
   "nbconvert_exporter": "python",
   "pygments_lexer": "ipython3",
   "version": "3.10.0"
  }
 },
 "nbformat": 4,
 "nbformat_minor": 5
}
